{
 "cells": [
  {
   "cell_type": "code",
   "execution_count": 2,
   "metadata": {},
   "outputs": [
    {
     "name": "stdout",
     "output_type": "stream",
     "text": [
      "pygame 2.1.3 (SDL 2.0.22, Python 3.7.4)\n",
      "Hello from the pygame community. https://www.pygame.org/contribute.html\n"
     ]
    }
   ],
   "source": [
    "#!pip install pygame\n",
    "import pygame\n",
    "import numpy as np\n",
    "import time"
   ]
  },
  {
   "cell_type": "code",
   "execution_count": 3,
   "metadata": {},
   "outputs": [],
   "source": [
    "pygame.init()\n",
    "width,height=1000,1000\n",
    "screen=pygame.display.set_mode((height,width))\n",
    "bg=25,25,25\n",
    "screen.fill(bg)\n",
    "nxC,nyC=25,25\n",
    "dimCW=width/nxC\n",
    "dimCH=height/nyC\n",
    "\n",
    "#Estado de las celdas. Vivas=1; Muertas=0;\n",
    "gameState=np.zeros((nxC,nyC))\n",
    "\n",
    "#Autómata palo\n",
    "gameState[5,3]=1\n",
    "gameState[5,4]=1\n",
    "gameState[5,5]=1\n",
    "\n",
    "#Autómata móvil\n",
    "gameState[21,21]=1\n",
    "gameState[22,22]=1\n",
    "gameState[22,23]=1\n",
    "gameState[21,23]=1\n",
    "gameState[20,23]=1\n",
    "\n",
    "#Control de la ejecución del juego\n",
    "pauseExect=False\n",
    "\n",
    "#Bucle de ejecución\n",
    "while True:\n",
    "    \n",
    "    newGameState=np.copy(gameState)\n",
    "    \n",
    "    screen.fill(bg)\n",
    "    time.sleep(0.1)\n",
    "    \n",
    "    #Registramos eventos de teclado y ratón\n",
    "    ev=pygame.event.get()\n",
    "    \n",
    "    for event in ev:\n",
    "        if event.type==pygame.KEYDOWN:\n",
    "            pauseExect=not pauseExect\n",
    "        \n",
    "        mouseClick=pygame.mouse.get_pressed()\n",
    "    \n",
    "        \n",
    "        if sum(mouseClick)>0:\n",
    "            posX,posY=pygame.mouse.get_pos()\n",
    "            celX,celY=int(np.floor(posX/dimCW)),int(np.floor(posY/dimCH))\n",
    "            newGameState[celX,celY]=not mouseClick[2]\n",
    "    \n",
    "    for y in range(0,nxC):\n",
    "        for x in range(0,nyC):\n",
    "            \n",
    "            if not pauseExect:\n",
    "                \n",
    "                #Calculamos el número de vecinos cercanos.\n",
    "                n_neigh=gameState[(x-1)%nxC,(y-1)%nyC]+\\\n",
    "                        gameState[(x)%nxC,(y-1)%nyC]+\\\n",
    "                        gameState[(x+1)%nxC,(y-1)%nyC]+\\\n",
    "                        gameState[(x-1)%nxC,(y)%nyC]+\\\n",
    "                        gameState[(x+1)%nxC,(y)%nyC]+\\\n",
    "                        gameState[(x-1)%nxC,(y+1)%nyC]+\\\n",
    "                        gameState[(x)%nxC,(y+1)%nyC]+\\\n",
    "                        gameState[(x+1)%nxC,(y+1)%nyC]\n",
    "                \n",
    "                #Rule #1: Una célula muerta con exactamente 3 vecinas vivas, \"revive\"\n",
    "                if gameState[x,y]==0 and n_neigh==3:\n",
    "                    newGameState[x,y]=1\n",
    "                \n",
    "                #Rule #2: Una célula viva con menos de 2 o más de 3 vecinas vivas, \"muere\"\n",
    "                elif gameState[x,y]==1 and (n_neigh<2 or n_neigh>3):\n",
    "                    newGameState[x,y]=0\n",
    "            \n",
    "            #Creamos el polígono de cada celda a dibujar.\n",
    "            poly=[((x)*dimCW,y*dimCH),\n",
    "                  ((x+1)*dimCW,y*dimCH),\n",
    "                  ((x+1)*dimCW,(y+1)*dimCH),\n",
    "                  ((x)*dimCW,(y+1)*dimCH)]\n",
    "            \n",
    "            \n",
    "            #Y dibujamos la celda para cada par de x e y.\n",
    "            if newGameState[x,y]==0:\n",
    "                pygame.draw.polygon(screen,(128,128,128),poly,1)\n",
    "            else:\n",
    "                pygame.draw.polygon(screen,(255,255,255),poly,0)\n",
    "     \n",
    "    #Actualizamos el estado del juego \n",
    "    gameState=np.copy(newGameState)          \n",
    "    #Actualizamos la pantalla       \n",
    "    pygame.display.flip()"
   ]
  }
 ],
 "metadata": {
  "kernelspec": {
   "display_name": "Python 3",
   "language": "python",
   "name": "python3"
  },
  "language_info": {
   "codemirror_mode": {
    "name": "ipython",
    "version": 3
   },
   "file_extension": ".py",
   "mimetype": "text/x-python",
   "name": "python",
   "nbconvert_exporter": "python",
   "pygments_lexer": "ipython3",
   "version": "3.7.4"
  },
  "orig_nbformat": 4,
  "vscode": {
   "interpreter": {
    "hash": "252189e587d1e2aeba4a06e91fa71896c7a7f6e22e918b9407c7cde4ef2d5985"
   }
  }
 },
 "nbformat": 4,
 "nbformat_minor": 2
}
